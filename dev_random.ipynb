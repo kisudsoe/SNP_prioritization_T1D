{
 "cells": [
  {
   "cell_type": "markdown",
   "metadata": {},
   "source": [
    "# * Collapse gtex tissue annotation"
   ]
  },
  {
   "cell_type": "code",
   "execution_count": 21,
   "metadata": {},
   "outputs": [
    {
     "name": "stdout",
     "output_type": "stream",
     "text": [
      "[1] 29785     9\n"
     ]
    },
    {
     "data": {
      "text/html": [
       "<table>\n",
       "<thead><tr><th scope=col>variant_id</th><th scope=col>gene_id</th><th scope=col>pval_nominal</th><th scope=col>slope</th><th scope=col>slope_se</th><th scope=col>tissue</th><th scope=col>chr</th><th scope=col>variant_pos</th><th scope=col>rsid</th></tr></thead>\n",
       "<tbody>\n",
       "\t<tr><td>1_114426001_G_A_b37          </td><td>ENSG00000226167.1            </td><td>2.58854e-10                  </td><td>-0.498565                    </td><td>0.0756303                    </td><td>Cells_Transformed_fibroblasts</td><td>1                            </td><td>114426001                    </td><td>rs11102694                   </td></tr>\n",
       "\t<tr><td>1_114429461_G_A_b37          </td><td>ENSG00000226167.1            </td><td>8.37389e-11                  </td><td>-0.510813                    </td><td>0.0752620                    </td><td>Cells_Transformed_fibroblasts</td><td>1                            </td><td>114429461                    </td><td>rs2358994                    </td></tr>\n",
       "\t<tr><td>1_114429515_A_C_b37          </td><td>ENSG00000226167.1            </td><td>7.56856e-11                  </td><td>-0.513570                    </td><td>0.0754759                    </td><td>Cells_Transformed_fibroblasts</td><td>1                            </td><td>114429515                    </td><td>rs2358995                    </td></tr>\n",
       "\t<tr><td>1_114431463_G_A_b37          </td><td>ENSG00000226167.1            </td><td>3.54926e-10                  </td><td>-0.495715                    </td><td>0.0758333                    </td><td>Cells_Transformed_fibroblasts</td><td>1                            </td><td>114431463                    </td><td>rs7547478                    </td></tr>\n",
       "\t<tr><td>1_114445880_G_A_b37          </td><td>ENSG00000226167.1            </td><td>5.32221e-11                  </td><td>-0.513291                    </td><td>0.0747756                    </td><td>Cells_Transformed_fibroblasts</td><td>1                            </td><td>114445880                    </td><td>rs7513707                    </td></tr>\n",
       "\t<tr><td>1_114448389_C_T_b37          </td><td>ENSG00000226167.1            </td><td>2.40206e-11                  </td><td>-0.526891                    </td><td>0.0752834                    </td><td>Cells_Transformed_fibroblasts</td><td>1                            </td><td>114448389                    </td><td>rs11552449                   </td></tr>\n",
       "</tbody>\n",
       "</table>\n"
      ],
      "text/latex": [
       "\\begin{tabular}{r|lllllllll}\n",
       " variant\\_id & gene\\_id & pval\\_nominal & slope & slope\\_se & tissue & chr & variant\\_pos & rsid\\\\\n",
       "\\hline\n",
       "\t 1\\_114426001\\_G\\_A\\_b37       & ENSG00000226167.1                 & 2.58854e-10                       & -0.498565                         & 0.0756303                         & Cells\\_Transformed\\_fibroblasts & 1                                 & 114426001                         & rs11102694                       \\\\\n",
       "\t 1\\_114429461\\_G\\_A\\_b37       & ENSG00000226167.1                 & 8.37389e-11                       & -0.510813                         & 0.0752620                         & Cells\\_Transformed\\_fibroblasts & 1                                 & 114429461                         & rs2358994                        \\\\\n",
       "\t 1\\_114429515\\_A\\_C\\_b37       & ENSG00000226167.1                 & 7.56856e-11                       & -0.513570                         & 0.0754759                         & Cells\\_Transformed\\_fibroblasts & 1                                 & 114429515                         & rs2358995                        \\\\\n",
       "\t 1\\_114431463\\_G\\_A\\_b37       & ENSG00000226167.1                 & 3.54926e-10                       & -0.495715                         & 0.0758333                         & Cells\\_Transformed\\_fibroblasts & 1                                 & 114431463                         & rs7547478                        \\\\\n",
       "\t 1\\_114445880\\_G\\_A\\_b37       & ENSG00000226167.1                 & 5.32221e-11                       & -0.513291                         & 0.0747756                         & Cells\\_Transformed\\_fibroblasts & 1                                 & 114445880                         & rs7513707                        \\\\\n",
       "\t 1\\_114448389\\_C\\_T\\_b37       & ENSG00000226167.1                 & 2.40206e-11                       & -0.526891                         & 0.0752834                         & Cells\\_Transformed\\_fibroblasts & 1                                 & 114448389                         & rs11552449                       \\\\\n",
       "\\end{tabular}\n"
      ],
      "text/markdown": [
       "\n",
       "| variant_id | gene_id | pval_nominal | slope | slope_se | tissue | chr | variant_pos | rsid |\n",
       "|---|---|---|---|---|---|---|---|---|\n",
       "| 1_114426001_G_A_b37           | ENSG00000226167.1             | 2.58854e-10                   | -0.498565                     | 0.0756303                     | Cells_Transformed_fibroblasts | 1                             | 114426001                     | rs11102694                    |\n",
       "| 1_114429461_G_A_b37           | ENSG00000226167.1             | 8.37389e-11                   | -0.510813                     | 0.0752620                     | Cells_Transformed_fibroblasts | 1                             | 114429461                     | rs2358994                     |\n",
       "| 1_114429515_A_C_b37           | ENSG00000226167.1             | 7.56856e-11                   | -0.513570                     | 0.0754759                     | Cells_Transformed_fibroblasts | 1                             | 114429515                     | rs2358995                     |\n",
       "| 1_114431463_G_A_b37           | ENSG00000226167.1             | 3.54926e-10                   | -0.495715                     | 0.0758333                     | Cells_Transformed_fibroblasts | 1                             | 114431463                     | rs7547478                     |\n",
       "| 1_114445880_G_A_b37           | ENSG00000226167.1             | 5.32221e-11                   | -0.513291                     | 0.0747756                     | Cells_Transformed_fibroblasts | 1                             | 114445880                     | rs7513707                     |\n",
       "| 1_114448389_C_T_b37           | ENSG00000226167.1             | 2.40206e-11                   | -0.526891                     | 0.0752834                     | Cells_Transformed_fibroblasts | 1                             | 114448389                     | rs11552449                    |\n",
       "\n"
      ],
      "text/plain": [
       "  variant_id          gene_id           pval_nominal slope     slope_se \n",
       "1 1_114426001_G_A_b37 ENSG00000226167.1 2.58854e-10  -0.498565 0.0756303\n",
       "2 1_114429461_G_A_b37 ENSG00000226167.1 8.37389e-11  -0.510813 0.0752620\n",
       "3 1_114429515_A_C_b37 ENSG00000226167.1 7.56856e-11  -0.513570 0.0754759\n",
       "4 1_114431463_G_A_b37 ENSG00000226167.1 3.54926e-10  -0.495715 0.0758333\n",
       "5 1_114445880_G_A_b37 ENSG00000226167.1 5.32221e-11  -0.513291 0.0747756\n",
       "6 1_114448389_C_T_b37 ENSG00000226167.1 2.40206e-11  -0.526891 0.0752834\n",
       "  tissue                        chr variant_pos rsid      \n",
       "1 Cells_Transformed_fibroblasts 1   114426001   rs11102694\n",
       "2 Cells_Transformed_fibroblasts 1   114429461   rs2358994 \n",
       "3 Cells_Transformed_fibroblasts 1   114429515   rs2358995 \n",
       "4 Cells_Transformed_fibroblasts 1   114431463   rs7547478 \n",
       "5 Cells_Transformed_fibroblasts 1   114445880   rs7513707 \n",
       "6 Cells_Transformed_fibroblasts 1   114448389   rs11552449"
      ]
     },
     "metadata": {},
     "output_type": "display_data"
    },
    {
     "name": "stdout",
     "output_type": "stream",
     "text": [
      "\n",
      "Job done: 2019-01-16 16:59:32 for 0 sec\n"
     ]
    }
   ],
   "source": [
    "source('src/pdtime.r')\n",
    "t0 = Sys.time()\n",
    "library(data.table)\n",
    "gtex = fread('data/gtex_5e-08_745.tsv')\n",
    "print(dim(dat)); head(dat)\n",
    "cat(paste0('\\n',pdtime(t0,1),'\\n'))"
   ]
  },
  {
   "cell_type": "code",
   "execution_count": 29,
   "metadata": {},
   "outputs": [
    {
     "data": {
      "text/html": [
       "<table>\n",
       "<thead><tr><th scope=col>rsid</th><th scope=col>tissue</th></tr></thead>\n",
       "<tbody>\n",
       "\t<tr><td>rs11102694                   </td><td>Cells_Transformed_fibroblasts</td></tr>\n",
       "\t<tr><td>rs2358994                    </td><td>Cells_Transformed_fibroblasts</td></tr>\n",
       "\t<tr><td>rs2358995                    </td><td>Cells_Transformed_fibroblasts</td></tr>\n",
       "</tbody>\n",
       "</table>\n"
      ],
      "text/latex": [
       "\\begin{tabular}{r|ll}\n",
       " rsid & tissue\\\\\n",
       "\\hline\n",
       "\t rs11102694                        & Cells\\_Transformed\\_fibroblasts\\\\\n",
       "\t rs2358994                         & Cells\\_Transformed\\_fibroblasts\\\\\n",
       "\t rs2358995                         & Cells\\_Transformed\\_fibroblasts\\\\\n",
       "\\end{tabular}\n"
      ],
      "text/markdown": [
       "\n",
       "| rsid | tissue |\n",
       "|---|---|\n",
       "| rs11102694                    | Cells_Transformed_fibroblasts |\n",
       "| rs2358994                     | Cells_Transformed_fibroblasts |\n",
       "| rs2358995                     | Cells_Transformed_fibroblasts |\n",
       "\n"
      ],
      "text/plain": [
       "  rsid       tissue                       \n",
       "1 rs11102694 Cells_Transformed_fibroblasts\n",
       "2 rs2358994  Cells_Transformed_fibroblasts\n",
       "3 rs2358995  Cells_Transformed_fibroblasts"
      ]
     },
     "metadata": {},
     "output_type": "display_data"
    },
    {
     "name": "stderr",
     "output_type": "stream",
     "text": [
      "`summarise_each()` is deprecated.\n",
      "Use `summarise_all()`, `summarise_at()` or `summarise_if()` instead.\n",
      "To map `funs` over all variables, use `summarise_all()`\n"
     ]
    },
    {
     "data": {
      "text/html": [
       "<table>\n",
       "<thead><tr><th scope=col>rsid</th><th scope=col>tissue</th></tr></thead>\n",
       "<tbody>\n",
       "\t<tr><td>rs1004446                                                                                                                                                                                                                                                                                                                                                                                                                 </td><td>Liver                                                                                                                                                                                                                                                                                                                                                                                                                     </td></tr>\n",
       "\t<tr><td>rs1008723                                                                                                                                                                                                                                                                                                                                                                                                                 </td><td>Artery_Tibial; Esophagus_Muscularis; Esophagus_Gastroesophageal_Junction; Spleen; Small_Intestine_Terminal_Ileum; Adipose_Visceral_Omentum; Cells_EBV-transformed_lymphocytes; Whole_Blood; Esophagus_Mucosa; Testis; Muscle_Skeletal; Pancreas; Whole_Blood; Colon_Transverse; Spleen; Stomach; Thyroid; Adipose_Subcutaneous; Nerve_Tibial; Heart_Left_Ventricle; Lung; Cells_EBV-transformed_lymphocytes; Lung; Stomach</td></tr>\n",
       "\t<tr><td>rs1013971                                                                                                                                                                                                                                                                                                                                                                                                                 </td><td>Adipose_Visceral_Omentum; Skin_Sun_Exposed_Lower_leg; Lung; Esophagus_Mucosa; Thyroid; Esophagus_Muscularis; Cells_Transformed_fibroblasts; Artery_Aorta; Stomach; Nerve_Tibial; Artery_Coronary; Esophagus_Gastroesophageal_Junction; Artery_Tibial; Adipose_Subcutaneous; Colon_Sigmoid; Adrenal_Gland; Esophagus_Mucosa; Skin_Not_Sun_Exposed_Suprapubic                                                               </td></tr>\n",
       "</tbody>\n",
       "</table>\n"
      ],
      "text/latex": [
       "\\begin{tabular}{r|ll}\n",
       " rsid & tissue\\\\\n",
       "\\hline\n",
       "\t rs1004446                                                                                                                                                                                                                                                                                                                                                                                                                  & Liver                                                                                                                                                                                                                                                                                                                                                                                                                     \\\\\n",
       "\t rs1008723                                                                                                                                                                                                                                                                                                                                                                                                                                                              & Artery\\_Tibial; Esophagus\\_Muscularis; Esophagus\\_Gastroesophageal\\_Junction; Spleen; Small\\_Intestine\\_Terminal\\_Ileum; Adipose\\_Visceral\\_Omentum; Cells\\_EBV-transformed\\_lymphocytes; Whole\\_Blood; Esophagus\\_Mucosa; Testis; Muscle\\_Skeletal; Pancreas; Whole\\_Blood; Colon\\_Transverse; Spleen; Stomach; Thyroid; Adipose\\_Subcutaneous; Nerve\\_Tibial; Heart\\_Left\\_Ventricle; Lung; Cells\\_EBV-transformed\\_lymphocytes; Lung; Stomach\\\\\n",
       "\t rs1013971                                                                                                                                                                                                                                                                                                                                                                                                                                                                  & Adipose\\_Visceral\\_Omentum; Skin\\_Sun\\_Exposed\\_Lower\\_leg; Lung; Esophagus\\_Mucosa; Thyroid; Esophagus\\_Muscularis; Cells\\_Transformed\\_fibroblasts; Artery\\_Aorta; Stomach; Nerve\\_Tibial; Artery\\_Coronary; Esophagus\\_Gastroesophageal\\_Junction; Artery\\_Tibial; Adipose\\_Subcutaneous; Colon\\_Sigmoid; Adrenal\\_Gland; Esophagus\\_Mucosa; Skin\\_Not\\_Sun\\_Exposed\\_Suprapubic                                                               \\\\\n",
       "\\end{tabular}\n"
      ],
      "text/markdown": [
       "\n",
       "| rsid | tissue |\n",
       "|---|---|\n",
       "| rs1004446                                                                                                                                                                                                                                                                                                                                                                                                                  | Liver                                                                                                                                                                                                                                                                                                                                                                                                                      |\n",
       "| rs1008723                                                                                                                                                                                                                                                                                                                                                                                                                  | Artery_Tibial; Esophagus_Muscularis; Esophagus_Gastroesophageal_Junction; Spleen; Small_Intestine_Terminal_Ileum; Adipose_Visceral_Omentum; Cells_EBV-transformed_lymphocytes; Whole_Blood; Esophagus_Mucosa; Testis; Muscle_Skeletal; Pancreas; Whole_Blood; Colon_Transverse; Spleen; Stomach; Thyroid; Adipose_Subcutaneous; Nerve_Tibial; Heart_Left_Ventricle; Lung; Cells_EBV-transformed_lymphocytes; Lung; Stomach |\n",
       "| rs1013971                                                                                                                                                                                                                                                                                                                                                                                                                  | Adipose_Visceral_Omentum; Skin_Sun_Exposed_Lower_leg; Lung; Esophagus_Mucosa; Thyroid; Esophagus_Muscularis; Cells_Transformed_fibroblasts; Artery_Aorta; Stomach; Nerve_Tibial; Artery_Coronary; Esophagus_Gastroesophageal_Junction; Artery_Tibial; Adipose_Subcutaneous; Colon_Sigmoid; Adrenal_Gland; Esophagus_Mucosa; Skin_Not_Sun_Exposed_Suprapubic                                                                |\n",
       "\n"
      ],
      "text/plain": [
       "  rsid     \n",
       "1 rs1004446\n",
       "2 rs1008723\n",
       "3 rs1013971\n",
       "  tissue                                                                                                                                                                                                                                                                                                                                                                                                                    \n",
       "1 Liver                                                                                                                                                                                                                                                                                                                                                                                                                     \n",
       "2 Artery_Tibial; Esophagus_Muscularis; Esophagus_Gastroesophageal_Junction; Spleen; Small_Intestine_Terminal_Ileum; Adipose_Visceral_Omentum; Cells_EBV-transformed_lymphocytes; Whole_Blood; Esophagus_Mucosa; Testis; Muscle_Skeletal; Pancreas; Whole_Blood; Colon_Transverse; Spleen; Stomach; Thyroid; Adipose_Subcutaneous; Nerve_Tibial; Heart_Left_Ventricle; Lung; Cells_EBV-transformed_lymphocytes; Lung; Stomach\n",
       "3 Adipose_Visceral_Omentum; Skin_Sun_Exposed_Lower_leg; Lung; Esophagus_Mucosa; Thyroid; Esophagus_Muscularis; Cells_Transformed_fibroblasts; Artery_Aorta; Stomach; Nerve_Tibial; Artery_Coronary; Esophagus_Gastroesophageal_Junction; Artery_Tibial; Adipose_Subcutaneous; Colon_Sigmoid; Adrenal_Gland; Esophagus_Mucosa; Skin_Not_Sun_Exposed_Suprapubic                                                               "
      ]
     },
     "metadata": {},
     "output_type": "display_data"
    }
   ],
   "source": [
    "library(dplyr)\n",
    "gtex_ = gtex[,c(9,6)]; head(gtex_,3)\n",
    "gtex_col = gtex_ %>%\n",
    "    group_by(rsid) %>%\n",
    "    summarise_each(funs(paste(.,collapse='; ')))\n",
    "head(gtex_col,3)"
   ]
  },
  {
   "cell_type": "markdown",
   "metadata": {},
   "source": [
    "rs1008723에 Whole_Blood가 두 개 있다?!"
   ]
  },
  {
   "cell_type": "markdown",
   "metadata": {},
   "source": [
    "# Generate random SNP sets"
   ]
  },
  {
   "cell_type": "code",
   "execution_count": 51,
   "metadata": {},
   "outputs": [
    {
     "name": "stdout",
     "output_type": "stream",
     "text": [
      "\n",
      "(2/3) Reading dbSNP data RDS files..\n",
      "\t(21/25) bed_chr_21.bed.rds, rows= 8348293 cols= 7, Job process: 7.8 sec\n",
      "\t(22/25) bed_chr_22.bed.rds, rows= 8374360 cols= 7, Job process: 11.7 sec\n",
      "\t(24/25) bed_chr_Y.bed.rds, rows= 468465 cols= 7, Job process: 11.9 sec\n",
      "\t(25/25) bed_chr_MT.bed.rds, rows= 2296 cols= 7, Job process: 11.9 sec\n",
      "\n",
      " >> SNP table, rows= 17193414 cols= 4\n",
      " >> Job process: 20 sec\n"
     ]
    }
   ],
   "source": [
    "suppressMessages(library(plyr))\n",
    "suppressMessages(library(data.table))\n",
    "source('src/pdtime.r')\n",
    "source('src/saveasrds.r')\n",
    "t0 = Sys.time()\n",
    "\n",
    "dir = 'db/dbSNP/'\n",
    "dir2 = 'random/'\n",
    "chr = c(1:22,'X','Y','MT')\n",
    "\n",
    "cat('\\n(2/3) Reading dbSNP data RDS files..\\n')\n",
    "f_name2 = paste0(dir,'bed_chr_',chr,'.bed.rds')\n",
    "n=length(f_name2)\n",
    "snp.li = lapply(c(21:22,24:25),function(i) {\n",
    "    f = f_name2[i]\n",
    "    if(file.exists(f)) {\n",
    "        tb = try(as.data.frame(readRDS(f)))\n",
    "        if('try-error' %in% class(tb)) stop('There is no dbSNP RDS files before this process.') # check no file error\n",
    "        cat(paste0('\\t(',i,'/',n,') ',\n",
    "               basename(f),', rows= ',dim(tb)[1],' cols= ',dim(tb)[2],', ',\n",
    "               pdtime(t0,2),'\\n'))\n",
    "        return(tb)\n",
    "    } else cat(paste0('None such file: ',f))\n",
    "})\n",
    "snp.df = ldply(snp.li,data.frame)[,c(1:3,6)] # plyr\n",
    "cat(paste0('\\n >> SNP table, rows= ',dim(snp.df)[1],' cols= ',dim(snp.df)[2],'\\n'))\n",
    "cat(paste0(' >> ',pdtime(t0,2),'\\n'))"
   ]
  },
  {
   "cell_type": "code",
   "execution_count": 125,
   "metadata": {},
   "outputs": [
    {
     "name": "stdout",
     "output_type": "stream",
     "text": [
      "\n",
      "(3/3) Generating random-sets of SNPs\n",
      "  - SNP_number = 1817\n",
      "  - SNP_set_number = 1\n",
      ">> File write: random/rsid1.bed\n"
     ]
    }
   ],
   "source": [
    "cat('\\n(3/3) Generating random-sets of SNPs\\n')\n",
    "n_snp = 1817\n",
    "n_snp_set = 1\n",
    "cat(paste0('  - SNP_number = ',n_snp,'\\n  - SNP_set_number = ',n_snp_set,'\\n'))\n",
    "t=lapply(c(1:n_snp_set),function(i) {\n",
    "\trd.row = sample(nrow(snp.df),n_snp)\n",
    "\trd.df  = snp.df[rd.row,]\n",
    "    #rd.df  = rd.df[sort(rownames(rd.df)),]\n",
    "    m=nrow(rd.df)\n",
    "    rd.li=lapply(c(1:m),function(j) {\n",
    "        row   = t(unname(rd.df[j,]))\n",
    "        row_2 = as.numeric(row[2])\n",
    "        row_3 = as.numeric(row[3])\n",
    "        if(row_3-row_2<0) {\n",
    "            row_ = c(row[c(1,3,2,4)],row_3-row_2)\n",
    "        } else {\n",
    "            row_ = c(row,row_3-row_2)\n",
    "        }\n",
    "        return(t(row_))\n",
    "    })\n",
    "    rd.df_ = ldply(rd.li,data.frame)\n",
    "    f_name = paste0(dir2,'rsid',i,'.bed')\n",
    "\twrite.table(rd.df_,f_name,row.names=F,col.names=F,quote=F,sep='\\t')\n",
    "    cat(paste0('>> File write: ',f_name,'\\n'))\n",
    "})"
   ]
  },
  {
   "cell_type": "markdown",
   "metadata": {},
   "source": [
    "# Random SNP iteration\n",
    "\n",
    "## 1. Prepare random SNP files"
   ]
  },
  {
   "cell_type": "code",
   "execution_count": 3,
   "metadata": {},
   "outputs": [
    {
     "name": "stderr",
     "output_type": "stream",
     "text": [
      "Warning message:\n",
      "\"package 'data.table' was built under R version 3.5.2\""
     ]
    },
    {
     "name": "stdout",
     "output_type": "stream",
     "text": [
      "\n",
      "(2/3) Reading dbSNP data RDS files..\n",
      "\t(20/25) bed_chr_20.bed.rds, rows= 13664413 cols= 7, Job process: 16.4 sec\n",
      "\t(21/25) bed_chr_21.bed.rds, rows= 8348293 cols= 7, Job process: 34.7 sec\n",
      "\t(22/25) bed_chr_22.bed.rds, rows= 8374360 cols= 7, Job process: 49.1 sec\n",
      "\t(24/25) bed_chr_Y.bed.rds, rows= 468465 cols= 7, Job process: 49.5 sec\n",
      "\t(25/25) bed_chr_MT.bed.rds, rows= 2296 cols= 7, Job process: 49.5 sec\n",
      "\n",
      " >> SNP table, rows= 30857827 cols= 4\n",
      " >> Job process: 1.3 min\n"
     ]
    }
   ],
   "source": [
    "suppressMessages(library(plyr))\n",
    "suppressMessages(library(data.table))\n",
    "source('src/pdtime.r')\n",
    "source('src/saveasrds.r')\n",
    "t0   = Sys.time()\n",
    "dir  = 'db/dbSNP/'\n",
    "dir2 = 'random/'\n",
    "chr  = c(1:22,'X','Y','MT')\n",
    "\n",
    "cat('\\n(2/3) Reading dbSNP data RDS files..\\n')\n",
    "f_name2 = paste0(dir,'bed_chr_',chr,'.bed.rds')\n",
    "n=length(f_name2)\n",
    "snp.li = lapply(c(20:22,24:25),function(i) {\n",
    "    f = f_name2[i]\n",
    "    if(file.exists(f)) {\n",
    "        tb = try(as.data.frame(readRDS(f)))\n",
    "        if('try-error' %in% class(tb)) stop('There is no dbSNP RDS files before this process.') # check no file error\n",
    "        cat(paste0('\\t(',i,'/',n,') ',\n",
    "               basename(f),', rows= ',dim(tb)[1],' cols= ',dim(tb)[2],', ',\n",
    "               pdtime(t0,2),'\\n'))\n",
    "        return(tb)\n",
    "    } else cat(paste0('None such file: ',f))\n",
    "})\n",
    "snp.df = ldply(snp.li,data.frame)[,c(1:3,6)] # plyr\n",
    "cat(paste0('\\n >> SNP table, rows= ',dim(snp.df)[1],' cols= ',dim(snp.df)[2],'\\n'))\n",
    "cat(paste0(' >> ',pdtime(t0,2),'\\n'))"
   ]
  },
  {
   "cell_type": "code",
   "execution_count": 5,
   "metadata": {},
   "outputs": [
    {
     "name": "stdout",
     "output_type": "stream",
     "text": [
      "\n",
      " >> Job done: 2019-01-18 20:59:01 for 0.2 sec\n"
     ]
    }
   ],
   "source": [
    "t0   = Sys.time()\n",
    "n_snp_set = 10\n",
    "n_snp = 1817\n",
    "t=lapply(c(1:n_snp_set),function(i) {\n",
    "    rd.row = sample(nrow(snp.df),n_snp)\n",
    "    rd.df  = snp.df[rd.row,]\n",
    "    f_name = paste0(dir2,'rsid',i,'.bed')\n",
    "    write.table(rd.df,f_name,row.names=F,col.names=F,quote=F,sep='\\t')\n",
    "    #cat(paste0(' >> File write: ',f_name,'\\n'))\n",
    "})\n",
    "cat(paste0('\\n >> ',pdtime(t0,1),'\\n'))"
   ]
  },
  {
   "cell_type": "markdown",
   "metadata": {},
   "source": [
    "### Fixing the start > end problem\n",
    "\n",
    "- Run following `SHELL` script:\n",
    "\n",
    "`$ awk -F\\t '$2>$3{print $1,$3,$2,$4; next}{print $0}' random/rsid1.bed > random/rsid1_.bed`\n",
    "\n",
    "```SHELL\n",
    "for i in $(seq 1 10); do\n",
    "    path='random/rsid'$i'.bed'\n",
    "    name=${path%%.*}'_.bed'\n",
    "    awk -F\\t '$2>$3{print $1,$3,$2,$4; next}{print $0}' $path > $name\n",
    "done\n",
    "```"
   ]
  },
  {
   "cell_type": "markdown",
   "metadata": {},
   "source": [
    "## 2. Prepare roadmap command lines\n",
    "  - CMD: `dir > list.tsv`\n",
    "  - In excel, generate iterative `SHELL` command lines\n",
    "    - `bedtools closest -d -a random/rsid1.bed -b db/roadmap_enh_merge.bed > random/data/roadmap_rsid1.tsv`\n",
    "    - `bedtools closest -d -a random/rsid2.bed -b db/roadmap_enh_merge.bed > random/data/roadmap_rsid2.tsv`\n",
    "    - ...\n",
    "  - Save the command lines as `roadmap_random.sh` and run."
   ]
  },
  {
   "cell_type": "markdown",
   "metadata": {},
   "source": [
    "## 3. Run Roadmap analysis\n",
    "\n",
    "- see `src/bedtools_cloest_random.r` file for the complete version."
   ]
  },
  {
   "cell_type": "code",
   "execution_count": 139,
   "metadata": {},
   "outputs": [
    {
     "name": "stdout",
     "output_type": "stream",
     "text": [
      " (1/10)random/roadmap/roadmap_rsid1.tsv\n",
      " (2/10)random/roadmap/roadmap_rsid2.tsv\n",
      " (3/10)random/roadmap/roadmap_rsid3.tsv\n",
      " (4/10)random/roadmap/roadmap_rsid4.tsv\n",
      " (5/10)random/roadmap/roadmap_rsid5.tsv\n",
      " (6/10)random/roadmap/roadmap_rsid6.tsv\n",
      " (7/10)random/roadmap/roadmap_rsid7.tsv\n",
      " (8/10)random/roadmap/roadmap_rsid8.tsv\n",
      " (9/10)random/roadmap/roadmap_rsid9.tsv\n",
      " (10/10)random/roadmap/roadmap_rsid10.tsv\n",
      "\n",
      "File write: random/roadmap/random_dist.tsv\n",
      "\n",
      ">> Job done: 2019-01-18 18:33:55 for 20 min\n"
     ]
    }
   ],
   "source": [
    "rsid = c(1:10)\n",
    "path = paste0(dir,'roadmap_rsid',rsid,'.tsv')\n",
    "rd.li = list(); n = length(path)\n",
    "rd.li = lapply(c(1:n),function(i) {\n",
    "    # 1. Compiling SNP data distant from RoadMap enhancers\n",
    "    rd = as.data.frame(fread(path[i])) # data.table\n",
    "    cat(paste0(' (',i,'/',n,') ',path[i],'\\n'))\n",
    "    pos  = unlist(apply(rd,1,function(x) paste0(x[6],':',x[7],'-',x[8])))\n",
    "    rd_  = cbind(rd[1:4],pos,rd[,9:10])\n",
    "    colnames(rd_) = c('chr','start','end','rsid','enh_pos','num','dist')\n",
    "    dis = as.numeric(as.character(rd_$dist))\n",
    "    rd.df = cbind(rd_[1:6],dis); head(rd.df)\n",
    "    \n",
    "    # 2. Filtering SNPs by distance of closest enhancers\n",
    "    rd.df_ = unique(subset(rd.df,dis==0))\n",
    "    rd.df_snp = length(unique(rd.df_$rsid))\n",
    "    rd.df_enh = length(unique(rd.df_$enh_pos))\n",
    "    \n",
    "    rd.row = c(basename(path[i]),rd.df_snp,rd.df_enh)\n",
    "    return(t(rd.row))\n",
    "})\n",
    "rd.df_ = ldply(rd.li,data.frame) # plyr\n",
    "colnames(rd.df_) = c('random','SNP_n','Enh_n')\n",
    "                  \n",
    "f.path = paste0(dir,'random_dist.tsv')\n",
    "write.table(rd.df_,f.path,row.names=F,quote=F,sep='\\t')\n",
    "cat(paste0('\\nFile write: ',f.path,'\\n'))\n",
    "cat(paste0('\\n>> ',pdtime(t0,1),'\\n'))"
   ]
  },
  {
   "cell_type": "markdown",
   "metadata": {},
   "source": [
    "## 4. GTEx analysis\n",
    "\n",
    "- see complete code in `gtex_random.r`"
   ]
  },
  {
   "cell_type": "code",
   "execution_count": 333,
   "metadata": {},
   "outputs": [
    {
     "name": "stdout",
     "output_type": "stream",
     "text": [
      " - GTEx table, rows= 17113536 cols= 9\n"
     ]
    },
    {
     "data": {
      "text/html": [
       "'Job done: 2019-01-30 11:51:13 for 24.4 sec'"
      ],
      "text/latex": [
       "'Job done: 2019-01-30 11:51:13 for 24.4 sec'"
      ],
      "text/markdown": [
       "'Job done: 2019-01-30 11:51:13 for 24.4 sec'"
      ],
      "text/plain": [
       "[1] \"Job done: 2019-01-30 11:51:13 for 24.4 sec\""
      ]
     },
     "metadata": {},
     "output_type": "display_data"
    }
   ],
   "source": [
    "suppressMessages(library(plyr))\n",
    "source('src/pdtime.r')\n",
    "t0 = Sys.time()\n",
    "# 1. Loading GTEx significant file\n",
    "cat(\"\\n(1/2) Loading GTEx significant file\\n\")\n",
    "gtex = readRDS('db/gtex_signif_5e-8.tsv.rds')\n",
    "cat(paste0(' - GTEx table, rows= ',dim(gtex)[1],' cols= ',dim(gtex)[2],'\\n'))\n",
    "pdtime(t0,1)"
   ]
  },
  {
   "cell_type": "code",
   "execution_count": 334,
   "metadata": {},
   "outputs": [
    {
     "data": {
      "text/html": [
       "<table>\n",
       "<thead><tr><th scope=col>variant_id</th><th scope=col>gene_id</th><th scope=col>pval_nominal</th><th scope=col>slope</th><th scope=col>slope_se</th><th scope=col>tissue</th><th scope=col>chr</th><th scope=col>variant_pos</th><th scope=col>rs_id_dbSNP147_GRCh37p13</th></tr></thead>\n",
       "<tbody>\n",
       "\t<tr><td>1_100000012_G_T_b37 </td><td>ENSG00000099260.6   </td><td>6.99181e-10         </td><td>0.532305            </td><td>0.0817603           </td><td>Pancreas            </td><td>1                   </td><td>100000012           </td><td>rs10875231          </td></tr>\n",
       "\t<tr><td>1_100004463_TA_T_b37</td><td>ENSG00000099260.6   </td><td>7.03678e-10         </td><td>0.525742            </td><td>0.0807670           </td><td>Pancreas            </td><td>1                   </td><td>100004463           </td><td>rs869166030         </td></tr>\n",
       "\t<tr><td>1_100004726_G_A_b37 </td><td>ENSG00000099260.6   </td><td>2.81063e-18         </td><td>0.923973            </td><td>0.0950254           </td><td>Pancreas            </td><td>1                   </td><td>100004726           </td><td>rs6682190           </td></tr>\n",
       "\t<tr><td>1_100005477_G_A_b37 </td><td>ENSG00000099260.6   </td><td>1.75862e-17         </td><td>0.897595            </td><td>0.0950940           </td><td>Pancreas            </td><td>1                   </td><td>100005477           </td><td>rs12069019          </td></tr>\n",
       "\t<tr><td>1_100006734_C_T_b37 </td><td>ENSG00000099260.6   </td><td>2.90141e-14         </td><td>0.835423            </td><td>0.1011750           </td><td>Pancreas            </td><td>1                   </td><td>100006734           </td><td>rs55725529          </td></tr>\n",
       "\t<tr><td>1_100007454_C_T_b37 </td><td>ENSG00000099260.6   </td><td>1.75862e-17         </td><td>0.897595            </td><td>0.0950940           </td><td>Pancreas            </td><td>1                   </td><td>100007454           </td><td>rs12082355          </td></tr>\n",
       "</tbody>\n",
       "</table>\n"
      ],
      "text/latex": [
       "\\begin{tabular}{r|lllllllll}\n",
       " variant\\_id & gene\\_id & pval\\_nominal & slope & slope\\_se & tissue & chr & variant\\_pos & rs\\_id\\_dbSNP147\\_GRCh37p13\\\\\n",
       "\\hline\n",
       "\t 1\\_100000012\\_G\\_T\\_b37  & ENSG00000099260.6            & 6.99181e-10                  & 0.532305                     & 0.0817603                    & Pancreas                     & 1                            & 100000012                    & rs10875231                  \\\\\n",
       "\t 1\\_100004463\\_TA\\_T\\_b37 & ENSG00000099260.6            & 7.03678e-10                  & 0.525742                     & 0.0807670                    & Pancreas                     & 1                            & 100004463                    & rs869166030                 \\\\\n",
       "\t 1\\_100004726\\_G\\_A\\_b37  & ENSG00000099260.6            & 2.81063e-18                  & 0.923973                     & 0.0950254                    & Pancreas                     & 1                            & 100004726                    & rs6682190                   \\\\\n",
       "\t 1\\_100005477\\_G\\_A\\_b37  & ENSG00000099260.6            & 1.75862e-17                  & 0.897595                     & 0.0950940                    & Pancreas                     & 1                            & 100005477                    & rs12069019                  \\\\\n",
       "\t 1\\_100006734\\_C\\_T\\_b37  & ENSG00000099260.6            & 2.90141e-14                  & 0.835423                     & 0.1011750                    & Pancreas                     & 1                            & 100006734                    & rs55725529                  \\\\\n",
       "\t 1\\_100007454\\_C\\_T\\_b37  & ENSG00000099260.6            & 1.75862e-17                  & 0.897595                     & 0.0950940                    & Pancreas                     & 1                            & 100007454                    & rs12082355                  \\\\\n",
       "\\end{tabular}\n"
      ],
      "text/markdown": [
       "\n",
       "| variant_id | gene_id | pval_nominal | slope | slope_se | tissue | chr | variant_pos | rs_id_dbSNP147_GRCh37p13 |\n",
       "|---|---|---|---|---|---|---|---|---|\n",
       "| 1_100000012_G_T_b37  | ENSG00000099260.6    | 6.99181e-10          | 0.532305             | 0.0817603            | Pancreas             | 1                    | 100000012            | rs10875231           |\n",
       "| 1_100004463_TA_T_b37 | ENSG00000099260.6    | 7.03678e-10          | 0.525742             | 0.0807670            | Pancreas             | 1                    | 100004463            | rs869166030          |\n",
       "| 1_100004726_G_A_b37  | ENSG00000099260.6    | 2.81063e-18          | 0.923973             | 0.0950254            | Pancreas             | 1                    | 100004726            | rs6682190            |\n",
       "| 1_100005477_G_A_b37  | ENSG00000099260.6    | 1.75862e-17          | 0.897595             | 0.0950940            | Pancreas             | 1                    | 100005477            | rs12069019           |\n",
       "| 1_100006734_C_T_b37  | ENSG00000099260.6    | 2.90141e-14          | 0.835423             | 0.1011750            | Pancreas             | 1                    | 100006734            | rs55725529           |\n",
       "| 1_100007454_C_T_b37  | ENSG00000099260.6    | 1.75862e-17          | 0.897595             | 0.0950940            | Pancreas             | 1                    | 100007454            | rs12082355           |\n",
       "\n"
      ],
      "text/plain": [
       "  variant_id           gene_id           pval_nominal slope    slope_se \n",
       "1 1_100000012_G_T_b37  ENSG00000099260.6 6.99181e-10  0.532305 0.0817603\n",
       "2 1_100004463_TA_T_b37 ENSG00000099260.6 7.03678e-10  0.525742 0.0807670\n",
       "3 1_100004726_G_A_b37  ENSG00000099260.6 2.81063e-18  0.923973 0.0950254\n",
       "4 1_100005477_G_A_b37  ENSG00000099260.6 1.75862e-17  0.897595 0.0950940\n",
       "5 1_100006734_C_T_b37  ENSG00000099260.6 2.90141e-14  0.835423 0.1011750\n",
       "6 1_100007454_C_T_b37  ENSG00000099260.6 1.75862e-17  0.897595 0.0950940\n",
       "  tissue   chr variant_pos rs_id_dbSNP147_GRCh37p13\n",
       "1 Pancreas 1   100000012   rs10875231              \n",
       "2 Pancreas 1   100004463   rs869166030             \n",
       "3 Pancreas 1   100004726   rs6682190               \n",
       "4 Pancreas 1   100005477   rs12069019              \n",
       "5 Pancreas 1   100006734   rs55725529              \n",
       "6 Pancreas 1   100007454   rs12082355              "
      ]
     },
     "metadata": {},
     "output_type": "display_data"
    }
   ],
   "source": [
    "head(gtex)"
   ]
  },
  {
   "cell_type": "code",
   "execution_count": 346,
   "metadata": {},
   "outputs": [
    {
     "name": "stdout",
     "output_type": "stream",
     "text": [
      "\n",
      "(2/2) eQTL SNP filter iteration\n"
     ]
    },
    {
     "name": "stderr",
     "output_type": "stream",
     "text": [
      "Warning message in dir.create(file.path(dir_out)):\n",
      "\"'random\\gtex' already exists\""
     ]
    },
    {
     "name": "stdout",
     "output_type": "stream",
     "text": [
      "\t(1/10) random/seeds/rsid1.bed\n",
      "\t(2/10) random/seeds/rsid2.bed\n",
      "\t(3/10) random/seeds/rsid3.bed\n",
      "\t(4/10) random/seeds/rsid4.bed\n",
      "\t(5/10) random/seeds/rsid5.bed\n",
      "\t(6/10) random/seeds/rsid6.bed\n",
      "\t(7/10) random/seeds/rsid7.bed\n",
      "\t(8/10) random/seeds/rsid8.bed\n",
      "\t(9/10) random/seeds/rsid9.bed\n",
      "\t(10/10) random/seeds/rsid10.bed\n",
      "\n",
      "File write: random/gtex_dist.tsv\n",
      ">> Job done: 2019-01-30 12:25:53 for 6.4 sec\n"
     ]
    }
   ],
   "source": [
    "# 2. eQTL SNP filter iteration\n",
    "t0 = Sys.time()\n",
    "cat(\"\\n(2/2) eQTL SNP filter iteration\\n\")\n",
    "dir_out = 'random/gtex'\n",
    "f_name = 'random/gtex_dist.tsv'\n",
    "dir.create(file.path(dir_out))\n",
    "\n",
    "rsid = c(1:10)\n",
    "rd_name = paste0('gtex_rsid',rsid,'.bed')\n",
    "rd_path = paste0('random/seeds/rsid',rsid,'.bed')\n",
    "colnames(gtex)[9] = 'rsid'\n",
    "rd.li = list(); n = length(rd_path)\n",
    "rd.li = lapply(c(1:n),function(i) {\n",
    "    rd = as.data.frame(fread(rd_path[i])) # data.table\n",
    "    colnames(rd) = c('chr','start','end','rsid')\n",
    "    cat(paste0('\\t(',i,'/',n,') ',rd_path[i],'\\n'))\n",
    "    gtex_ = subset(gtex,rsid%in%rd$rsid)\n",
    "    write.table(gtex_,paste0(dir_out,'/gtex_rsid',rsid[i],'.tsv'),\n",
    "                row.names=F,quote=F,sep='\\t')\n",
    "    \n",
    "    eqtl_snp_n  = length(unique(gtex_$rsid))\n",
    "    asso_gene_n = length(unique(gtex_$gene_id))\n",
    "    rd.row = c(rd_name[i],eqtl_snp_n,asso_gene_n)\n",
    "    return(t(rd.row))\n",
    "})\n",
    "rd_df = ldply(rd.li,data.frame) # plyr\n",
    "colnames(rd_df) = c('random','SNP_n','Gene_n')\n",
    "write.table(rd_df,f_name,row.names=F,quote=F,sep='\\t')\n",
    "cat(paste0('\\nFile write: ',f_name,'\\n'))\n",
    "cat(paste0('>> ',pdtime(t0,1),'\\n'))"
   ]
  },
  {
   "cell_type": "markdown",
   "metadata": {},
   "source": [
    "## 5. lncRNASNP2\n",
    "\n",
    "- See the complete code at `lncrnasnp_random.r` file."
   ]
  },
  {
   "cell_type": "code",
   "execution_count": 363,
   "metadata": {},
   "outputs": [
    {
     "name": "stdout",
     "output_type": "stream",
     "text": [
      "  - db/lncRNASNP2_snplist.txt.rds; Job process: 7.6 sec\n",
      "  - db/lncrnas.txt.rds; Job process: 7.7 sec\n",
      "  - db/lncrna-diseases_experiment.txt.rds; Job process: 7.7 sec\n"
     ]
    }
   ],
   "source": [
    "suppressMessages(library(plyr))\n",
    "suppressMessages(library(data.table))\n",
    "source('src/pdtime.r')\n",
    "t0 = Sys.time()\n",
    "\n",
    "# 1. Read DB files..\n",
    "cat(\"\\n(1/2) Read DB files..\\n\")\n",
    "snplnc_path = 'db/lncRNASNP2_snplist.txt.rds'\n",
    "ann_path = 'db/lncrnas.txt.rds'\n",
    "dis_path = 'db/lncrna-diseases_experiment.txt.rds'\n",
    "\n",
    "snplnc = readRDS(snplnc_path)\n",
    "cat(paste0('  - ',snplnc_path,'; ',pdtime(t0,2),'\\n'))\n",
    "\n",
    "ann = readRDS(ann_path)\n",
    "colnames(ann)[1] = 'lncRNA'\n",
    "cat(paste0('  - ',ann_path,'; ',pdtime(t0,2),'\\n'))\n",
    "\n",
    "dis = readRDS(dis_path)\n",
    "cat(paste0('  - ',dis_path,'; ',pdtime(t0,2),'\\n'))"
   ]
  },
  {
   "cell_type": "code",
   "execution_count": 376,
   "metadata": {},
   "outputs": [
    {
     "name": "stderr",
     "output_type": "stream",
     "text": [
      "Warning message in dir.create(file.path(dir_out)):\n",
      "\"'random\\lncrna' already exists\""
     ]
    },
    {
     "name": "stdout",
     "output_type": "stream",
     "text": [
      "\n",
      "(2/2) Random SNP iteration\n",
      "\t(1/10) random/seeds/rsid1.bed\n",
      "\t(2/10) random/seeds/rsid2.bed\n",
      "\t(3/10) random/seeds/rsid3.bed\n",
      "\t(4/10) random/seeds/rsid4.bed\n",
      "\t(5/10) random/seeds/rsid5.bed\n",
      "\t(6/10) random/seeds/rsid6.bed\n",
      "\t(7/10) random/seeds/rsid7.bed\n",
      "\t(8/10) random/seeds/rsid8.bed\n",
      "\t(9/10) random/seeds/rsid9.bed\n",
      "\t(10/10) random/seeds/rsid10.bed\n",
      "\n",
      "File write: random/lncrna_dist.tsv\n",
      "\n",
      "Job done: 2019-01-31 12:09:52 for 19.8 sec\n"
     ]
    }
   ],
   "source": [
    "t0 = Sys.time()\n",
    "dir_out = 'random/lncrna'\n",
    "dir.create(file.path(dir_out))\n",
    "f_name = 'random/lncrna_dist.tsv'\n",
    "\n",
    "# 2. Random SNP iteration\n",
    "rsid = c(1:10)\n",
    "rd_name = paste0('lncrna_rsid',rsid,'.bed')\n",
    "rd_path = paste0('random/seeds/rsid',rsid,'.bed')\n",
    "\n",
    "cat(\"\\n(2/2) Random SNP iteration\\n\")\n",
    "n=length(rd_path)\n",
    "rd_li=lapply(c(1:n),function(i) {\n",
    "    # Read SNPs\n",
    "    snp_df = read.delim(rd_path[i],header=F)\n",
    "    colnames(snp_df) = c('chr','start','end','dbsnp')\n",
    "    cat(paste0('\\t(',i,'/',n,') ',rd_path[i],'\\n'))\n",
    "    \n",
    "    # Merge and annotate SNPs within lncRNAs\n",
    "    snp_lnc = merge(snp_df,snplnc,by='dbsnp')\n",
    "    snp_lnc_ann = merge(snp_lnc[,c(1,5)],ann,by='lncRNA',all.x=T)\n",
    "    snp_lnc_ann_dis = merge(snp_lnc_ann,dis,by='lncRNA',all.x=T)\n",
    "    f_name1 = paste0(dir_out,'/',rd_name[i])\n",
    "    write.table(snp_lnc_ann_dis,f_name1,row.names=F,quote=F,sep='\\t')\n",
    "    \n",
    "    # Count numbers for return\n",
    "    df_n = data.frame(random  =rd_name[i],\n",
    "                      SNP_n   =c(length(unique(snp_lnc$dbsnp))),\n",
    "                      lncRNA_n=c(length(unique(snp_lnc$lncRNA))))\n",
    "    return(df_n)\n",
    "})\n",
    "rd_df = ldply(rd_li,data.frame) # plyr\n",
    "colnames(rd_df) = c('random','SNP_n','lncRNA_n')\n",
    "write.table(rd_df,f_name,row.names=F,quote=F,sep='\\t')\n",
    "cat(paste0('\\nFile write: ',f_name,'\\n'))\n",
    "cat(paste0(pdtime(t0,1),'\\n'))"
   ]
  },
  {
   "cell_type": "markdown",
   "metadata": {},
   "source": [
    "## #. Monte Carlo simulation results\n",
    "\n",
    "- Summarizing the results as table\n",
    "- Calculate p-value using `t.test` function."
   ]
  },
  {
   "cell_type": "code",
   "execution_count": 1,
   "metadata": {},
   "outputs": [
    {
     "name": "stderr",
     "output_type": "stream",
     "text": [
      "Warning message:\n",
      "\"package 'dplyr' was built under R version 3.5.2\""
     ]
    },
    {
     "name": "stdout",
     "output_type": "stream",
     "text": [
      "10000   3  10000   3  10000   3  10000   3  10000   3  10000   3  10000   3  "
     ]
    }
   ],
   "source": [
    "# 1. Read distribution files\n",
    "suppressMessages(library(dplyr))\n",
    "roadmap  = read.delim('random/roadmap_dist.tsv'); roadmap %>% dim %>% paste0('  ') %>% cat\n",
    "encode   = read.delim('random/encode_dist.tsv'); encode %>% dim %>% paste0('  ') %>% cat\n",
    "regulome = read.delim('random/regulome_dist.tsv'); regulome %>% dim %>% paste0('  ') %>% cat\n",
    "overlap1 = read.delim('random/overlap1_dist.tsv'); overlap1 %>% dim %>% paste0('  ') %>% cat\n",
    "overlap2 = read.delim('random/overlap2_dist.tsv'); overlap2 %>% dim %>% paste0('  ') %>% cat\n",
    "gtex     = read.delim('random/gtex_dist.tsv'); gtex %>% dim %>% paste0('  ') %>% cat\n",
    "lncrna   = read.delim('random/lncrna_dist.tsv'); lncrna %>% dim %>% paste0('  ') %>% cat"
   ]
  },
  {
   "cell_type": "code",
   "execution_count": null,
   "metadata": {},
   "outputs": [],
   "source": [
    "colnames(lncrna)"
   ]
  },
  {
   "cell_type": "markdown",
   "metadata": {},
   "source": [
    "### RoadMap/ENCODE/RegulomeDB"
   ]
  },
  {
   "cell_type": "code",
   "execution_count": 2,
   "metadata": {},
   "outputs": [
    {
     "name": "stderr",
     "output_type": "stream",
     "text": [
      "Warning message:\n",
      "\"package 'data.table' was built under R version 3.5.2\""
     ]
    },
    {
     "name": "stdout",
     "output_type": "stream",
     "text": [
      "[1] 13\n"
     ]
    }
   ],
   "source": [
    "suppressMessages(library(data.table))\n",
    "mu.df = c(\n",
    "    `No. RoadMap SNP`         =484,\n",
    "    `No. RoadMap Enh`         =188,\n",
    "    `No. ENCODE SNP`          =364,\n",
    "    `No. ENCODE TFBS`         =232,\n",
    "    `No. Regulome 2b`         =94,\n",
    "    `No. Regulome func motifs`=45,\n",
    "    `No. Enhancer TFBS SNP`   =140, # overlap1\n",
    "    `No. Enhancer TFBS`       =85,  # overlap1\n",
    "    `No. High-prob SNP`       =26,  # overlap2\n",
    "    `No. GTEx SNP`            =745,\n",
    "    `No. GTEx Gene`           =159,\n",
    "    `No. lncRNASNP2 SNP`      =78,\n",
    "    `No. lncRNASNP2 lncRNA`   =42\n",
    ")\n",
    "dist = list(roadmap$SNP_n, roadmap$Enh_n,\n",
    "            encode$SNP_n,  encode$Enh_n,\n",
    "            regulome$regulome_2b_n,regulome$func_Motifs,\n",
    "            overlap1$SNP_n,overlap1$Enh_n,\n",
    "            overlap2$SNP_n,\n",
    "            gtex$SNP_n,    gtex$Gene_n,\n",
    "            lncrna$SNP_n,  lncrna$lncRNA_n)\n",
    "dist %>% length %>% print"
   ]
  },
  {
   "cell_type": "code",
   "execution_count": 37,
   "metadata": {},
   "outputs": [
    {
     "name": "stdout",
     "output_type": "stream",
     "text": [
      "List of 8\n",
      " $ statistic  : Named num -260\n",
      "  ..- attr(*, \"names\")= chr \"z\"\n",
      " $ p.value    : Named num 0\n",
      "  ..- attr(*, \"names\")= chr \"No. RoadMap SNP\"\n",
      " $ conf.int   : Named num [1:2] 436 437\n",
      "  ..- attr(*, \"names\")= chr [1:2] \"No. RoadMap SNP\" \"No. RoadMap SNP\"\n",
      "  ..- attr(*, \"conf.level\")= num 0.95\n",
      " $ estimate   : Named num 437\n",
      "  ..- attr(*, \"names\")= chr \"mean of x\"\n",
      " $ null.value : Named num 484\n",
      "  ..- attr(*, \"names\")= chr \"mean\"\n",
      " $ alternative: chr \"two.sided\"\n",
      " $ method     : chr \"One-sample z-Test\"\n",
      " $ data.name  : chr \"dist[[i]]\"\n",
      " - attr(*, \"class\")= chr \"htest\"\n"
     ]
    },
    {
     "data": {
      "text/plain": [
       "\n",
       "\tOne Sample t-test\n",
       "\n",
       "data:  dist[[i]]\n",
       "t = -259.61, df = 9999, p-value < 2.2e-16\n",
       "alternative hypothesis: true mean is not equal to 484\n",
       "95 percent confidence interval:\n",
       " 436.2496 436.9652\n",
       "sample estimates:\n",
       "mean of x \n",
       " 436.6074 \n"
      ]
     },
     "metadata": {},
     "output_type": "display_data"
    }
   ],
   "source": [
    "# test one by one\n",
    "library(BSDA)\n",
    "i = 1\n",
    "#z = (mean(dist[[i]])-mu.df[i])/(var(dist[[i]])/sqrt(length(dist[[i]])))\n",
    "#pnorm(abs(z),lower.tail=F)*2\n",
    "ztest_pval = z.test(x=dist[[i]],sigma.x=sd(dist[[i]]),mu=mu.df[i])\n",
    "ztest_pval %>% str\n",
    "ttest_pval = t.test(dist[[i]],mu=mu.df[i])\n",
    "ttest_pval"
   ]
  },
  {
   "cell_type": "code",
   "execution_count": 40,
   "metadata": {},
   "outputs": [
    {
     "name": "stdout",
     "output_type": "stream",
     "text": [
      "Error in integrate(approxfun(d), lower = min(d$x), upper = mu) : \n",
      "  non-finite function value\n",
      "Error in integrate(approxfun(d), lower = min(d$x), upper = mu) : \n",
      "  non-finite function value\n",
      "Error in integrate(approxfun(d), lower = min(d$x), upper = mu) : \n",
      "  non-finite function value\n",
      "Error in integrate(approxfun(d), lower = min(d$x), upper = mu) : \n",
      "  non-finite function value\n",
      "Error in integrate(approxfun(d), lower = min(d$x), upper = mu) : \n",
      "  non-finite function value\n",
      "Error in integrate(approxfun(d), lower = min(d$x), upper = mu) : \n",
      "  non-finite function value\n",
      "Error in integrate(approxfun(d), lower = min(d$x), upper = mu) : \n",
      "  non-finite function value\n",
      "Error in integrate(approxfun(d), lower = min(d$x), upper = mu) : \n",
      "  non-finite function value\n",
      "Error in integrate(approxfun(d), lower = min(d$x), upper = mu) : \n",
      "  non-finite function value\n"
     ]
    },
    {
     "data": {
      "text/html": [
       "<table>\n",
       "<thead><tr><th scope=col>No.</th><th scope=col>T1D</th><th scope=col>Range</th><th scope=col>Mean</th><th scope=col>StDev</th><th scope=col>T.test_p</th><th scope=col>Z.test_p</th><th scope=col>Approx_p</th><th scope=col>Rank_p</th></tr></thead>\n",
       "<tbody>\n",
       "\t<tr><td>No. RoadMap SNP         </td><td>484                     </td><td>369-508                 </td><td>436.6074                </td><td>18.2551305              </td><td>0                       </td><td>0                       </td><td>0.004274647             </td><td>0.00449955              </td></tr>\n",
       "\t<tr><td>No. RoadMap Enh         </td><td>188                     </td><td>369-508                 </td><td>436.0069                </td><td>18.2155382              </td><td>0                       </td><td>0                       </td><td>0.000000000             </td><td>0.00009999              </td></tr>\n",
       "\t<tr><td>No. ENCODE SNP          </td><td>364                     </td><td>190-302                 </td><td>249.7021                </td><td>14.7811300              </td><td>0                       </td><td>0                       </td><td>0.000000000             </td><td>0.00009999              </td></tr>\n",
       "\t<tr><td>No. ENCODE TFBS         </td><td>232                     </td><td>190-302                 </td><td>249.6092                </td><td>14.7773987              </td><td>0                       </td><td>0                       </td><td>0.116585436             </td><td>0.12188781              </td></tr>\n",
       "\t<tr><td>No. Regulome 2b         </td><td> 94                     </td><td>0-7                     </td><td>  1.0487                </td><td> 1.0233440              </td><td>0                       </td><td>0                       </td><td>0.000000000             </td><td>0.00009999              </td></tr>\n",
       "\t<tr><td>No. Regulome func motifs</td><td> 45                     </td><td>0-7                     </td><td>  0.9546                </td><td> 0.9787924              </td><td>0                       </td><td>0                       </td><td>0.000000000             </td><td>0.00009999              </td></tr>\n",
       "\t<tr><td>No. Enhancer TFBS SNP   </td><td>140                     </td><td>46-107                  </td><td> 75.1915                </td><td> 8.5091520              </td><td>0                       </td><td>0                       </td><td>0.000000000             </td><td>0.00009999              </td></tr>\n",
       "\t<tr><td>No. Enhancer TFBS       </td><td> 85                     </td><td>46-107                  </td><td> 75.1674                </td><td> 8.5075270              </td><td>0                       </td><td>0                       </td><td>0.126906994             </td><td>0.11598840              </td></tr>\n",
       "\t<tr><td>No. High-prob SNP       </td><td> 26                     </td><td>0-0                     </td><td>  0.0000                </td><td> 0.0000000              </td><td>0                       </td><td>0                       </td><td>0.000000000             </td><td>0.00009999              </td></tr>\n",
       "\t<tr><td>No. GTEx SNP            </td><td>745                     </td><td>0-15                    </td><td>  4.6630                </td><td> 2.1545058              </td><td>0                       </td><td>0                       </td><td>0.000000000             </td><td>0.00009999              </td></tr>\n",
       "\t<tr><td>No. GTEx Gene           </td><td>159                     </td><td>0-50                    </td><td>  9.3496                </td><td> 6.1133884              </td><td>0                       </td><td>0                       </td><td>0.000000000             </td><td>0.00009999              </td></tr>\n",
       "\t<tr><td>No. lncRNASNP2 SNP      </td><td> 78                     </td><td>6-39                    </td><td> 20.6548                </td><td> 4.4819466              </td><td>0                       </td><td>0                       </td><td>0.000000000             </td><td>0.00009999              </td></tr>\n",
       "\t<tr><td>No. lncRNASNP2 lncRNA   </td><td> 42                     </td><td>7-119                   </td><td> 29.0211                </td><td> 8.4745169              </td><td>0                       </td><td>0                       </td><td>0.067609298             </td><td>0.06059394              </td></tr>\n",
       "</tbody>\n",
       "</table>\n"
      ],
      "text/latex": [
       "\\begin{tabular}{r|lllllllll}\n",
       " No. & T1D & Range & Mean & StDev & T.test\\_p & Z.test\\_p & Approx\\_p & Rank\\_p\\\\\n",
       "\\hline\n",
       "\t No. RoadMap SNP          & 484                      & 369-508                  & 436.6074                 & 18.2551305               & 0                        & 0                        & 0.004274647              & 0.00449955              \\\\\n",
       "\t No. RoadMap Enh          & 188                      & 369-508                  & 436.0069                 & 18.2155382               & 0                        & 0                        & 0.000000000              & 0.00009999              \\\\\n",
       "\t No. ENCODE SNP           & 364                      & 190-302                  & 249.7021                 & 14.7811300               & 0                        & 0                        & 0.000000000              & 0.00009999              \\\\\n",
       "\t No. ENCODE TFBS          & 232                      & 190-302                  & 249.6092                 & 14.7773987               & 0                        & 0                        & 0.116585436              & 0.12188781              \\\\\n",
       "\t No. Regulome 2b          &  94                      & 0-7                      &   1.0487                 &  1.0233440               & 0                        & 0                        & 0.000000000              & 0.00009999              \\\\\n",
       "\t No. Regulome func motifs &  45                      & 0-7                      &   0.9546                 &  0.9787924               & 0                        & 0                        & 0.000000000              & 0.00009999              \\\\\n",
       "\t No. Enhancer TFBS SNP    & 140                      & 46-107                   &  75.1915                 &  8.5091520               & 0                        & 0                        & 0.000000000              & 0.00009999              \\\\\n",
       "\t No. Enhancer TFBS        &  85                      & 46-107                   &  75.1674                 &  8.5075270               & 0                        & 0                        & 0.126906994              & 0.11598840              \\\\\n",
       "\t No. High-prob SNP        &  26                      & 0-0                      &   0.0000                 &  0.0000000               & 0                        & 0                        & 0.000000000              & 0.00009999              \\\\\n",
       "\t No. GTEx SNP             & 745                      & 0-15                     &   4.6630                 &  2.1545058               & 0                        & 0                        & 0.000000000              & 0.00009999              \\\\\n",
       "\t No. GTEx Gene            & 159                      & 0-50                     &   9.3496                 &  6.1133884               & 0                        & 0                        & 0.000000000              & 0.00009999              \\\\\n",
       "\t No. lncRNASNP2 SNP       &  78                      & 6-39                     &  20.6548                 &  4.4819466               & 0                        & 0                        & 0.000000000              & 0.00009999              \\\\\n",
       "\t No. lncRNASNP2 lncRNA    &  42                      & 7-119                    &  29.0211                 &  8.4745169               & 0                        & 0                        & 0.067609298              & 0.06059394              \\\\\n",
       "\\end{tabular}\n"
      ],
      "text/markdown": [
       "\n",
       "| No. | T1D | Range | Mean | StDev | T.test_p | Z.test_p | Approx_p | Rank_p |\n",
       "|---|---|---|---|---|---|---|---|---|\n",
       "| No. RoadMap SNP          | 484                      | 369-508                  | 436.6074                 | 18.2551305               | 0                        | 0                        | 0.004274647              | 0.00449955               |\n",
       "| No. RoadMap Enh          | 188                      | 369-508                  | 436.0069                 | 18.2155382               | 0                        | 0                        | 0.000000000              | 0.00009999               |\n",
       "| No. ENCODE SNP           | 364                      | 190-302                  | 249.7021                 | 14.7811300               | 0                        | 0                        | 0.000000000              | 0.00009999               |\n",
       "| No. ENCODE TFBS          | 232                      | 190-302                  | 249.6092                 | 14.7773987               | 0                        | 0                        | 0.116585436              | 0.12188781               |\n",
       "| No. Regulome 2b          |  94                      | 0-7                      |   1.0487                 |  1.0233440               | 0                        | 0                        | 0.000000000              | 0.00009999               |\n",
       "| No. Regulome func motifs |  45                      | 0-7                      |   0.9546                 |  0.9787924               | 0                        | 0                        | 0.000000000              | 0.00009999               |\n",
       "| No. Enhancer TFBS SNP    | 140                      | 46-107                   |  75.1915                 |  8.5091520               | 0                        | 0                        | 0.000000000              | 0.00009999               |\n",
       "| No. Enhancer TFBS        |  85                      | 46-107                   |  75.1674                 |  8.5075270               | 0                        | 0                        | 0.126906994              | 0.11598840               |\n",
       "| No. High-prob SNP        |  26                      | 0-0                      |   0.0000                 |  0.0000000               | 0                        | 0                        | 0.000000000              | 0.00009999               |\n",
       "| No. GTEx SNP             | 745                      | 0-15                     |   4.6630                 |  2.1545058               | 0                        | 0                        | 0.000000000              | 0.00009999               |\n",
       "| No. GTEx Gene            | 159                      | 0-50                     |   9.3496                 |  6.1133884               | 0                        | 0                        | 0.000000000              | 0.00009999               |\n",
       "| No. lncRNASNP2 SNP       |  78                      | 6-39                     |  20.6548                 |  4.4819466               | 0                        | 0                        | 0.000000000              | 0.00009999               |\n",
       "| No. lncRNASNP2 lncRNA    |  42                      | 7-119                    |  29.0211                 |  8.4745169               | 0                        | 0                        | 0.067609298              | 0.06059394               |\n",
       "\n"
      ],
      "text/plain": [
       "   No.                      T1D Range   Mean     StDev      T.test_p Z.test_p\n",
       "1  No. RoadMap SNP          484 369-508 436.6074 18.2551305 0        0       \n",
       "2  No. RoadMap Enh          188 369-508 436.0069 18.2155382 0        0       \n",
       "3  No. ENCODE SNP           364 190-302 249.7021 14.7811300 0        0       \n",
       "4  No. ENCODE TFBS          232 190-302 249.6092 14.7773987 0        0       \n",
       "5  No. Regulome 2b           94 0-7       1.0487  1.0233440 0        0       \n",
       "6  No. Regulome func motifs  45 0-7       0.9546  0.9787924 0        0       \n",
       "7  No. Enhancer TFBS SNP    140 46-107   75.1915  8.5091520 0        0       \n",
       "8  No. Enhancer TFBS         85 46-107   75.1674  8.5075270 0        0       \n",
       "9  No. High-prob SNP         26 0-0       0.0000  0.0000000 0        0       \n",
       "10 No. GTEx SNP             745 0-15      4.6630  2.1545058 0        0       \n",
       "11 No. GTEx Gene            159 0-50      9.3496  6.1133884 0        0       \n",
       "12 No. lncRNASNP2 SNP        78 6-39     20.6548  4.4819466 0        0       \n",
       "13 No. lncRNASNP2 lncRNA     42 7-119    29.0211  8.4745169 0        0       \n",
       "   Approx_p    Rank_p    \n",
       "1  0.004274647 0.00449955\n",
       "2  0.000000000 0.00009999\n",
       "3  0.000000000 0.00009999\n",
       "4  0.116585436 0.12188781\n",
       "5  0.000000000 0.00009999\n",
       "6  0.000000000 0.00009999\n",
       "7  0.000000000 0.00009999\n",
       "8  0.126906994 0.11598840\n",
       "9  0.000000000 0.00009999\n",
       "10 0.000000000 0.00009999\n",
       "11 0.000000000 0.00009999\n",
       "12 0.000000000 0.00009999\n",
       "13 0.067609298 0.06059394"
      ]
     },
     "metadata": {},
     "output_type": "display_data"
    }
   ],
   "source": [
    "source('src/getpval.r')\n",
    "n = length(dist)\n",
    "df.li = lapply(c(1:n),function(i) {\n",
    "    p1 = getpval(dist[[i]],mu.df[i],'t_test')\n",
    "    p2 = getpval(dist[[i]],mu.df[i],'z_test')\n",
    "    p3 = getpval(dist[[i]],mu.df[i],'approxfun')\n",
    "    p4 = getpval(dist[[i]],mu.df[i],'rank')\n",
    "    range = paste0(min(dist[[i]]),'-',max(dist[[i]]))\n",
    "    df_ = data.frame(T1D=mu.df[i],\n",
    "                     Range=range,\n",
    "                     Mean=mean(dist[[i]]),\n",
    "                     StDev=sd(dist[[i]]),\n",
    "                     `T-test_p`=p1,\n",
    "                     `Z-test_p`=p2,\n",
    "                     `Approx_p`=p3,\n",
    "                     `Rank_p`=p4)\n",
    "    return(df_)\n",
    "})\n",
    "df = rbindlist(df.li) # data.table\n",
    "df_1 = data.frame(`No.`=names(mu.df),df)\n",
    "write.table(df_1,'random/summary_table_.tsv',sep='\\t',row.names=F,quote=F)\n",
    "df_1"
   ]
  },
  {
   "cell_type": "code",
   "execution_count": 384,
   "metadata": {},
   "outputs": [
    {
     "name": "stdout",
     "output_type": "stream",
     "text": [
      "[1] 13\n"
     ]
    }
   ],
   "source": [
    "source('src/getpval.r')\n",
    "n = length(dist); print(n)\n",
    "for(i in 1:n) {\n",
    "    getpval(dist[[i]],mu.df[i],'approxfun')\n",
    "    title = paste0('Monte Carlo permutation (n=10,000)\\nfor ',\n",
    "                   names(mu.df)[i],' = ',mu.df[i])\n",
    "    p=getdistplot(dist[[i]],mu.df[i])\n",
    "    f_name = paste0('random/',names(mu.df)[i],'.png')\n",
    "    ggsave(f_name,plot=p,device='png',width=5,height=5,units='in')\n",
    "}"
   ]
  },
  {
   "cell_type": "markdown",
   "metadata": {},
   "source": [
    "### Example:"
   ]
  },
  {
   "cell_type": "code",
   "execution_count": 1,
   "metadata": {},
   "outputs": [
    {
     "ename": "ERROR",
     "evalue": "Error in dist[[i]]: object of type 'closure' is not subsettable\n",
     "output_type": "error",
     "traceback": [
      "Error in dist[[i]]: object of type 'closure' is not subsettable\nTraceback:\n",
      "1. getpval(dist[[i]], mu.df[i], \"approxfun\")",
      "2. density(dist)"
     ]
    }
   ],
   "source": [
    "source('src/getpval.r')\n",
    "i=1\n",
    "getpval(dist[[i]],mu.df[i],'approxfun')\n",
    "title = paste0('Monte Carlo permutation for ',\n",
    "               names(mu.df)[i],' (n=10,000)')\n",
    "getdistplot(dist[[i]],mu.df[i],title)"
   ]
  }
 ],
 "metadata": {
  "kernelspec": {
   "display_name": "R",
   "language": "R",
   "name": "ir"
  },
  "language_info": {
   "codemirror_mode": "r",
   "file_extension": ".r",
   "mimetype": "text/x-r-source",
   "name": "R",
   "pygments_lexer": "r",
   "version": "3.5.1"
  }
 },
 "nbformat": 4,
 "nbformat_minor": 2
}
